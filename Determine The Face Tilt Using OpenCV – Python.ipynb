{
 "cells": [
  {
   "cell_type": "code",
   "execution_count": 1,
   "id": "b4362df3",
   "metadata": {},
   "outputs": [],
   "source": [
    "#here we use the computer vision library opencv-python \n",
    "#to detect face and determine the angle by how much the face is tilted "
   ]
  },
  {
   "cell_type": "code",
   "execution_count": 6,
   "id": "b6a170e3",
   "metadata": {},
   "outputs": [
    {
     "name": "stdout",
     "output_type": "stream",
     "text": [
      "Requirement already satisfied: opencv-python in c:\\users\\krishnamoorthy\\anaconda3\\lib\\site-packages (4.7.0.72)Note: you may need to restart the kernel to use updated packages.\n",
      "Requirement already satisfied: numpy>=1.17.0 in c:\\users\\krishnamoorthy\\anaconda3\\lib\\site-packages (from opencv-python) (1.22.4)\n",
      "\n"
     ]
    }
   ],
   "source": [
    "pip install opencv-python"
   ]
  },
  {
   "cell_type": "code",
   "execution_count": 7,
   "id": "cbacc389",
   "metadata": {},
   "outputs": [],
   "source": [
    "#importing libraries\n",
    "import cv2 as cv\n",
    "import numpy as np"
   ]
  },
  {
   "cell_type": "code",
   "execution_count": 8,
   "id": "ffd910be",
   "metadata": {},
   "outputs": [],
   "source": [
    "#here we use two pretrained XML classifiers (haarcascade classifiers)\n",
    "#one to detect face and the other one to detect eyes\n",
    "\n",
    "capture = cv.VideoCapture(0)\n",
    "face_cascade = cv.CascadeClassifier('haarcascade_frontalface_default.xml')\n",
    "eye_cascade = cv.CascadeClassifier(\"haarcascade_eye.xml\")\n",
    "  \n",
    "while True:\n",
    "    ret, frame = capture.read()\n",
    "    gray = cv.cvtColor(frame, cv.COLOR_BGR2GRAY)\n",
    "    faces = face_cascade.detectMultiScale(gray, 1.1, 5)  #detect objects of different sizes\n",
    "    x, y, w, h = 0, 0, 0, 0\n",
    "    for (x, y, w, h) in faces:\n",
    "        cv.rectangle(frame, (x, y), (x + w, y + h), (0, 255, 0), 2)\n",
    "        cv.circle(frame, (x + int(w * 0.5), y + int(h * 0.5)), 4, (0, 255, 0), -1)\n",
    "    eyes = eye_cascade.detectMultiScale(gray[y:(y + h), x:(x + w)], 1.1, 4)\n",
    "    index = 0\n",
    "    eye_1 = [None, None, None, None]\n",
    "    eye_2 = [None, None, None, None]\n",
    "    for (ex, ey, ew, eh) in eyes:\n",
    "        if index == 0:\n",
    "            eye_1 = [ex, ey, ew, eh]\n",
    "        elif index == 1:\n",
    "            eye_2 = [ex, ey, ew, eh]\n",
    "        cv.rectangle(frame[y:(y + h), x:(x + w)], (ex, ey), (ex + ew, ey + eh), (0, 0, 255), 2)\n",
    "        index = index + 1\n",
    "    if (eye_1[0] is not None) and (eye_2[0] is not None):\n",
    "        if eye_1[0] < eye_2[0]:\n",
    "            left_eye = eye_1\n",
    "            right_eye = eye_2\n",
    "        else:\n",
    "            left_eye = eye_2\n",
    "            right_eye = eye_1\n",
    "        left_eye_center = (int(left_eye[0] + (left_eye[2] / 2)), int(left_eye[1] + (left_eye[3] / 2)))  \n",
    "        right_eye_center = (int(right_eye[0] + (right_eye[2] / 2)), int(right_eye[1] + (right_eye[3] / 2)))\n",
    "          \n",
    "        left_eye_x = left_eye_center[0]\n",
    "        left_eye_y = left_eye_center[1]\n",
    "        right_eye_x = right_eye_center[0]\n",
    "        right_eye_y = right_eye_center[1]\n",
    "  \n",
    "        delta_x = right_eye_x - left_eye_x\n",
    "        delta_y = right_eye_y - left_eye_y\n",
    "          \n",
    "        # Slope of line formula\n",
    "        angle = np.arctan(delta_y / delta_x)  \n",
    "          \n",
    "        # Converting radians to degrees \n",
    "        angle = (angle * 180) / np.pi  \n",
    "  \n",
    "        # Provided a margin of error of 10 degrees\n",
    "        # (if the face tilts more than 10 degrees \n",
    "        #on either side the program will classify as right or left tilt)\n",
    "        if angle > 10:\n",
    "            cv.putText(frame, 'RIGHT TILT :' + str(int(angle))+' degrees',\n",
    "                       (20, 30), cv.FONT_HERSHEY_SIMPLEX, 1,\n",
    "                       (0, 0, 0), 2, cv.LINE_4)\n",
    "        elif angle < -10:\n",
    "            cv.putText(frame, 'LEFT TILT :' + str(int(angle))+' degrees',\n",
    "                       (20, 30), cv.FONT_HERSHEY_SIMPLEX, 1, \n",
    "                       (0, 0, 0), 2, cv.LINE_4)\n",
    "        else:\n",
    "            cv.putText(frame, 'STRAIGHT :', (20, 30),\n",
    "                       cv.FONT_HERSHEY_SIMPLEX, 1, \n",
    "                       (0, 0, 0), 2, cv.LINE_4)\n",
    "  \n",
    "    cv.imshow('Frame', frame)\n",
    "  \n",
    "    if cv.waitKey(1) & 0xFF == 27:\n",
    "        break\n",
    "capture.release()\n",
    "cv.destroyAllWindows()"
   ]
  },
  {
   "cell_type": "code",
   "execution_count": null,
   "id": "b3e2afc5",
   "metadata": {},
   "outputs": [],
   "source": []
  }
 ],
 "metadata": {
  "kernelspec": {
   "display_name": "Python 3 (ipykernel)",
   "language": "python",
   "name": "python3"
  },
  "language_info": {
   "codemirror_mode": {
    "name": "ipython",
    "version": 3
   },
   "file_extension": ".py",
   "mimetype": "text/x-python",
   "name": "python",
   "nbconvert_exporter": "python",
   "pygments_lexer": "ipython3",
   "version": "3.9.7"
  }
 },
 "nbformat": 4,
 "nbformat_minor": 5
}
